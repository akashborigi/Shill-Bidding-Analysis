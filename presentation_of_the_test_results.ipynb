{
 "cells": [
  {
   "cell_type": "markdown",
   "id": "1d50ed37",
   "metadata": {},
   "source": [
    "# Linear SVM & Poly SVM Using Variable Selection"
   ]
  },
  {
   "cell_type": "code",
   "execution_count": 88,
   "id": "86a7a935",
   "metadata": {},
   "outputs": [],
   "source": [
    "import pandas as pd\n",
    "import numpy as np\n",
    "from numpy import mean\n",
    "from numpy import absolute\n",
    "from matplotlib import pyplot as plt\n",
    "import sklearn\n",
    "from sklearn.preprocessing import LabelEncoder\n",
    "from sklearn.model_selection import train_test_split\n",
    "from sklearn.preprocessing import StandardScaler\n",
    "from sklearn.model_selection import KFold\n",
    "from sklearn.model_selection import cross_val_score\n",
    "from sklearn.linear_model import SGDClassifier\n",
    "from sklearn.neighbors import KNeighborsClassifier\n",
    "from sklearn import svm\n",
    "from sklearn.svm import SVC\n",
    "from sklearn.metrics import confusion_matrix,accuracy_score\n",
    "from sklearn.pipeline import make_pipeline\n",
    "from sklearn.svm import LinearSVC\n",
    "from sklearn.model_selection import GridSearchCV, train_test_split\n",
    "from sklearn.model_selection import RandomizedSearchCV\n",
    "from sklearn.metrics import classification_report\n",
    "from sklearn.pipeline import Pipeline\n",
    "from sklearn.ensemble import RandomForestClassifier\n",
    "from sklearn.naive_bayes import GaussianNB\n",
    "from scipy.stats import randint\n",
    "import time\n",
    "import torch\n",
    "import torch.nn as nn\n",
    "import torch.nn.functional as F\n",
    "import warnings\n",
    "warnings.filterwarnings('ignore')"
   ]
  },
  {
   "cell_type": "markdown",
   "id": "7409f86e",
   "metadata": {},
   "source": [
    "data=pd.read_csv(\"Group_2_data_cleaned.csv\")\n",
    "data=pd.DataFrame(data)\n",
    "X=np.array(data.iloc[0:,3:12])\n",
    "Y=np.array(data.iloc[0:,12:])"
   ]
  },
  {
   "cell_type": "code",
   "execution_count": 89,
   "id": "0db2fef1",
   "metadata": {},
   "outputs": [],
   "source": [
    "LE=LabelEncoder()\n",
    "X[:,0]=LE.fit_transform(X[:,0]) #Select labels from variables\n",
    "#Split train and test data. Test data size is 50%, training set is 50%\n",
    "X_train, X_test, y_train, y_test = train_test_split(X, Y, test_size = 0.5, random_state = 42) \n",
    "#The data set is normalized or 'standardized' for a better performaing KNN for both train and test data\n",
    "sc = StandardScaler()\n",
    "X_train = sc.fit_transform(X_train)\n",
    "X_test = sc.transform(X_test)\n",
    "#define K-fold cross-validation method to use\n",
    "cv = KFold(n_splits=10, random_state=1, shuffle=True)"
   ]
  },
  {
   "cell_type": "markdown",
   "id": "0bb8a84e",
   "metadata": {},
   "source": [
    "## Without Feature Selection"
   ]
  },
  {
   "cell_type": "markdown",
   "id": "134e10cc",
   "metadata": {},
   "source": [
    "### Part-2"
   ]
  },
  {
   "cell_type": "markdown",
   "id": "ee55d6ed",
   "metadata": {},
   "source": [
    "#### Linear Classifier(SGD)"
   ]
  },
  {
   "cell_type": "code",
   "execution_count": 90,
   "id": "239f8b4b",
   "metadata": {},
   "outputs": [],
   "source": [
    "sgd = make_pipeline(StandardScaler(),\n",
    "                    SGDClassifier(max_iter=1000, tol=1e-3, loss=\"perceptron\", penalty=\"l1\"))\n",
    "start_time = time.time()\n",
    "sgd.fit(X_train, y_train) \n",
    "end_time = time.time()\n",
    "dur1=end_time - start_time "
   ]
  },
  {
   "cell_type": "code",
   "execution_count": 91,
   "id": "c6e79bc5",
   "metadata": {},
   "outputs": [
    {
     "data": {
      "text/plain": [
       "array([0, 0, 1, ..., 1, 0, 0])"
      ]
     },
     "execution_count": 91,
     "metadata": {},
     "output_type": "execute_result"
    }
   ],
   "source": [
    "sgd_pred=sgd.predict(X_test)\n",
    "sgd_pred"
   ]
  },
  {
   "cell_type": "code",
   "execution_count": 92,
   "id": "ace3d4e6",
   "metadata": {},
   "outputs": [
    {
     "name": "stdout",
     "output_type": "stream",
     "text": [
      "              precision    recall  f1-score   support\n",
      "\n",
      "           0       0.99      0.98      0.98      2821\n",
      "           1       0.85      0.91      0.88       340\n",
      "\n",
      "    accuracy                           0.97      3161\n",
      "   macro avg       0.92      0.94      0.93      3161\n",
      "weighted avg       0.97      0.97      0.97      3161\n",
      "\n"
     ]
    }
   ],
   "source": [
    "print(classification_report(y_test, sgd_pred))"
   ]
  },
  {
   "cell_type": "code",
   "execution_count": 93,
   "id": "32ce5c1c",
   "metadata": {},
   "outputs": [
    {
     "name": "stdout",
     "output_type": "stream",
     "text": [
      "Accuracy Percent: 97.25\n"
     ]
    }
   ],
   "source": [
    "acc1=accuracy_score(y_test, sgd_pred)*100\n",
    "print(\"Accuracy Percent:\", round(acc1,2))"
   ]
  },
  {
   "cell_type": "markdown",
   "id": "6d5fa234",
   "metadata": {},
   "source": [
    "#### KNN"
   ]
  },
  {
   "cell_type": "code",
   "execution_count": 94,
   "id": "72a68737",
   "metadata": {},
   "outputs": [
    {
     "name": "stderr",
     "output_type": "stream",
     "text": [
      "/Users/akashborigi/anaconda3/lib/python3.10/site-packages/sklearn/neighbors/_classification.py:215: DataConversionWarning: A column-vector y was passed when a 1d array was expected. Please change the shape of y to (n_samples,), for example using ravel().\n",
      "  return self._fit(X, y)\n",
      "/Users/akashborigi/anaconda3/lib/python3.10/site-packages/sklearn/neighbors/_classification.py:215: DataConversionWarning: A column-vector y was passed when a 1d array was expected. Please change the shape of y to (n_samples,), for example using ravel().\n",
      "  return self._fit(X, y)\n",
      "/Users/akashborigi/anaconda3/lib/python3.10/site-packages/sklearn/neighbors/_classification.py:215: DataConversionWarning: A column-vector y was passed when a 1d array was expected. Please change the shape of y to (n_samples,), for example using ravel().\n",
      "  return self._fit(X, y)\n",
      "/Users/akashborigi/anaconda3/lib/python3.10/site-packages/sklearn/neighbors/_classification.py:215: DataConversionWarning: A column-vector y was passed when a 1d array was expected. Please change the shape of y to (n_samples,), for example using ravel().\n",
      "  return self._fit(X, y)\n",
      "/Users/akashborigi/anaconda3/lib/python3.10/site-packages/sklearn/neighbors/_classification.py:215: DataConversionWarning: A column-vector y was passed when a 1d array was expected. Please change the shape of y to (n_samples,), for example using ravel().\n",
      "  return self._fit(X, y)\n",
      "/Users/akashborigi/anaconda3/lib/python3.10/site-packages/sklearn/neighbors/_classification.py:215: DataConversionWarning: A column-vector y was passed when a 1d array was expected. Please change the shape of y to (n_samples,), for example using ravel().\n",
      "  return self._fit(X, y)\n",
      "/Users/akashborigi/anaconda3/lib/python3.10/site-packages/sklearn/neighbors/_classification.py:215: DataConversionWarning: A column-vector y was passed when a 1d array was expected. Please change the shape of y to (n_samples,), for example using ravel().\n",
      "  return self._fit(X, y)\n",
      "/Users/akashborigi/anaconda3/lib/python3.10/site-packages/sklearn/neighbors/_classification.py:215: DataConversionWarning: A column-vector y was passed when a 1d array was expected. Please change the shape of y to (n_samples,), for example using ravel().\n",
      "  return self._fit(X, y)\n",
      "/Users/akashborigi/anaconda3/lib/python3.10/site-packages/sklearn/neighbors/_classification.py:215: DataConversionWarning: A column-vector y was passed when a 1d array was expected. Please change the shape of y to (n_samples,), for example using ravel().\n",
      "  return self._fit(X, y)\n",
      "/Users/akashborigi/anaconda3/lib/python3.10/site-packages/sklearn/neighbors/_classification.py:215: DataConversionWarning: A column-vector y was passed when a 1d array was expected. Please change the shape of y to (n_samples,), for example using ravel().\n",
      "  return self._fit(X, y)\n"
     ]
    }
   ],
   "source": [
    "knn = KNeighborsClassifier(n_neighbors = 3, metric = 'minkowski', p = 2) #p=2 means euclidian distance\n",
    "start_time = time.time()\n",
    "knn.fit(X_train, y_train)\n",
    "end_time = time.time()\n",
    "dur2=end_time - start_time\n",
    "# Use K-Fold Cross Validation\n",
    "scores = cross_val_score(knn, X, Y, scoring='neg_mean_squared_error',\n",
    "                         cv=cv, n_jobs=-1)\n",
    "\n",
    "#Normal 50/50 Cross Validation\n",
    "knn_pred = knn.predict(X_test)\n",
    "from sklearn.metrics import confusion_matrix,accuracy_score\n",
    "ConfMat = confusion_matrix(y_test, knn_pred) #Confusion Matrix\n",
    "AccScore = accuracy_score(y_test,knn_pred) #Accuracy\n",
    "#Given function for accuracy"
   ]
  },
  {
   "cell_type": "code",
   "execution_count": 95,
   "id": "ed26f06f",
   "metadata": {},
   "outputs": [
    {
     "name": "stdout",
     "output_type": "stream",
     "text": [
      "              precision    recall  f1-score   support\n",
      "\n",
      "           0       0.99      0.99      0.99      2821\n",
      "           1       0.92      0.95      0.93       340\n",
      "\n",
      "    accuracy                           0.99      3161\n",
      "   macro avg       0.96      0.97      0.96      3161\n",
      "weighted avg       0.99      0.99      0.99      3161\n",
      "\n"
     ]
    }
   ],
   "source": [
    "print(classification_report(y_test, knn_pred))"
   ]
  },
  {
   "cell_type": "code",
   "execution_count": 96,
   "id": "014e5fb6",
   "metadata": {},
   "outputs": [
    {
     "name": "stdout",
     "output_type": "stream",
     "text": [
      "Accuracy: 98.54 %\n"
     ]
    }
   ],
   "source": [
    "acc2=round(AccScore,4)*100\n",
    "print('Accuracy:', round(AccScore,4)*100,'%')"
   ]
  },
  {
   "cell_type": "markdown",
   "id": "7f6ae4f7",
   "metadata": {},
   "source": [
    "#### Random Forest"
   ]
  },
  {
   "cell_type": "code",
   "execution_count": 97,
   "id": "557d58db",
   "metadata": {},
   "outputs": [],
   "source": [
    "#random_search cv used for the hyper-parameter tuning\n",
    "param_dist = {'n_estimators': randint(50, 200),\n",
    "              'max_depth': randint(3, 10),\n",
    "              'min_samples_split': randint(2, 20),\n",
    "              'min_samples_leaf': randint(1, 10),\n",
    "             'random_state': randint(10,42,78)}\n",
    "r = RandomForestClassifier()\n",
    "# perform the random search\n",
    "rf = RandomizedSearchCV(estimator=r, param_distributions=param_dist, n_iter=10, cv=cv, random_state=42)\n",
    "start_time = time.time()\n",
    "rf.fit(X_train, y_train)\n",
    "end_time = time.time()\n",
    "dur3=end_time - start_time\n",
    "rf_pred = rf.predict(X_test)"
   ]
  },
  {
   "cell_type": "code",
   "execution_count": 98,
   "id": "60bb6289",
   "metadata": {},
   "outputs": [
    {
     "name": "stdout",
     "output_type": "stream",
     "text": [
      "              precision    recall  f1-score   support\n",
      "\n",
      "           0       1.00      0.99      0.99      2821\n",
      "           1       0.90      0.98      0.94       340\n",
      "\n",
      "    accuracy                           0.99      3161\n",
      "   macro avg       0.95      0.98      0.96      3161\n",
      "weighted avg       0.99      0.99      0.99      3161\n",
      "\n"
     ]
    }
   ],
   "source": [
    "print(classification_report(y_test, rf_pred))"
   ]
  },
  {
   "cell_type": "code",
   "execution_count": 99,
   "id": "2719da82",
   "metadata": {},
   "outputs": [
    {
     "name": "stdout",
     "output_type": "stream",
     "text": [
      "Best Hyper-parameters {'max_depth': 8, 'min_samples_leaf': 6, 'min_samples_split': 3, 'n_estimators': 70, 'random_state': 88}\n"
     ]
    }
   ],
   "source": [
    "print(\"Best Hyper-parameters\", rf.best_params_)"
   ]
  },
  {
   "cell_type": "code",
   "execution_count": 100,
   "id": "3b332438",
   "metadata": {},
   "outputs": [
    {
     "name": "stdout",
     "output_type": "stream",
     "text": [
      "Accuracy Percent: 98.54\n"
     ]
    }
   ],
   "source": [
    "acc3=accuracy_score(y_test, rf_pred)*100\n",
    "print(\"Accuracy Percent:\", round(acc3,2))"
   ]
  },
  {
   "cell_type": "markdown",
   "id": "f4569d8a",
   "metadata": {},
   "source": [
    "#### SVM- Linear"
   ]
  },
  {
   "cell_type": "code",
   "execution_count": 101,
   "id": "6c25dc5e",
   "metadata": {},
   "outputs": [
    {
     "name": "stderr",
     "output_type": "stream",
     "text": [
      "/Users/akashborigi/anaconda3/lib/python3.10/site-packages/sklearn/utils/validation.py:1143: DataConversionWarning: A column-vector y was passed when a 1d array was expected. Please change the shape of y to (n_samples, ), for example using ravel().\n",
      "  y = column_or_1d(y, warn=True)\n",
      "/Users/akashborigi/anaconda3/lib/python3.10/site-packages/sklearn/utils/validation.py:1143: DataConversionWarning: A column-vector y was passed when a 1d array was expected. Please change the shape of y to (n_samples, ), for example using ravel().\n",
      "  y = column_or_1d(y, warn=True)\n",
      "/Users/akashborigi/anaconda3/lib/python3.10/site-packages/sklearn/utils/validation.py:1143: DataConversionWarning: A column-vector y was passed when a 1d array was expected. Please change the shape of y to (n_samples, ), for example using ravel().\n",
      "  y = column_or_1d(y, warn=True)\n",
      "/Users/akashborigi/anaconda3/lib/python3.10/site-packages/sklearn/utils/validation.py:1143: DataConversionWarning: A column-vector y was passed when a 1d array was expected. Please change the shape of y to (n_samples, ), for example using ravel().\n",
      "  y = column_or_1d(y, warn=True)\n",
      "/Users/akashborigi/anaconda3/lib/python3.10/site-packages/sklearn/utils/validation.py:1143: DataConversionWarning: A column-vector y was passed when a 1d array was expected. Please change the shape of y to (n_samples, ), for example using ravel().\n",
      "  y = column_or_1d(y, warn=True)\n",
      "/Users/akashborigi/anaconda3/lib/python3.10/site-packages/sklearn/utils/validation.py:1143: DataConversionWarning: A column-vector y was passed when a 1d array was expected. Please change the shape of y to (n_samples, ), for example using ravel().\n",
      "  y = column_or_1d(y, warn=True)\n",
      "/Users/akashborigi/anaconda3/lib/python3.10/site-packages/sklearn/utils/validation.py:1143: DataConversionWarning: A column-vector y was passed when a 1d array was expected. Please change the shape of y to (n_samples, ), for example using ravel().\n",
      "  y = column_or_1d(y, warn=True)\n",
      "/Users/akashborigi/anaconda3/lib/python3.10/site-packages/sklearn/utils/validation.py:1143: DataConversionWarning: A column-vector y was passed when a 1d array was expected. Please change the shape of y to (n_samples, ), for example using ravel().\n",
      "  y = column_or_1d(y, warn=True)\n",
      "/Users/akashborigi/anaconda3/lib/python3.10/site-packages/sklearn/utils/validation.py:1143: DataConversionWarning: A column-vector y was passed when a 1d array was expected. Please change the shape of y to (n_samples, ), for example using ravel().\n",
      "  y = column_or_1d(y, warn=True)\n",
      "/Users/akashborigi/anaconda3/lib/python3.10/site-packages/sklearn/utils/validation.py:1143: DataConversionWarning: A column-vector y was passed when a 1d array was expected. Please change the shape of y to (n_samples, ), for example using ravel().\n",
      "  y = column_or_1d(y, warn=True)\n"
     ]
    }
   ],
   "source": [
    "#Create a svm Classifier\n",
    "lin_svc = svm.SVC(kernel='linear') # Linear Kernel\n",
    " \n",
    "scores = cross_val_score(lin_svc, X, Y, scoring='neg_mean_squared_error',\n",
    "                         cv=cv, n_jobs=-1)\n",
    "\n",
    "#Train the model using the training sets\n",
    "start_time = time.time()\n",
    "lin_svc.fit(X_train, y_train)\n",
    "end_time = time.time()\n",
    "dur4=end_time - start_time\n",
    "\n",
    "#Predict the response for test dataset\n",
    "svc_pred = lin_svc.predict(X_test)"
   ]
  },
  {
   "cell_type": "code",
   "execution_count": 102,
   "id": "6552f2a1",
   "metadata": {},
   "outputs": [
    {
     "name": "stdout",
     "output_type": "stream",
     "text": [
      "Accuracy: 97.69060423916483 %\n",
      "Confusion Matrix:\n",
      " [[2753   68]\n",
      " [   5  335]]\n"
     ]
    }
   ],
   "source": [
    "acc4=accuracy_score(y_test, svc_pred)*100\n",
    "print(\"Accuracy:\",accuracy_score(y_test, svc_pred)*100,'%')\n",
    "print('Confusion Matrix:\\n',confusion_matrix(y_test, svc_pred))"
   ]
  },
  {
   "cell_type": "code",
   "execution_count": 103,
   "id": "33eba87b",
   "metadata": {},
   "outputs": [
    {
     "name": "stdout",
     "output_type": "stream",
     "text": [
      "              precision    recall  f1-score   support\n",
      "\n",
      "           0       1.00      0.98      0.99      2821\n",
      "           1       0.83      0.99      0.90       340\n",
      "\n",
      "    accuracy                           0.98      3161\n",
      "   macro avg       0.91      0.98      0.94      3161\n",
      "weighted avg       0.98      0.98      0.98      3161\n",
      "\n"
     ]
    }
   ],
   "source": [
    "print(classification_report(y_test, svc_pred))"
   ]
  },
  {
   "cell_type": "markdown",
   "id": "a15dfc01",
   "metadata": {},
   "source": [
    "## Part-3"
   ]
  },
  {
   "cell_type": "markdown",
   "id": "602e47e9",
   "metadata": {},
   "source": [
    "#### Non-Linear SVM Classifier"
   ]
  },
  {
   "cell_type": "code",
   "execution_count": 104,
   "id": "47f3125d",
   "metadata": {},
   "outputs": [
    {
     "data": {
      "text/html": [
       "<style>#sk-container-id-3 {color: black;background-color: white;}#sk-container-id-3 pre{padding: 0;}#sk-container-id-3 div.sk-toggleable {background-color: white;}#sk-container-id-3 label.sk-toggleable__label {cursor: pointer;display: block;width: 100%;margin-bottom: 0;padding: 0.3em;box-sizing: border-box;text-align: center;}#sk-container-id-3 label.sk-toggleable__label-arrow:before {content: \"▸\";float: left;margin-right: 0.25em;color: #696969;}#sk-container-id-3 label.sk-toggleable__label-arrow:hover:before {color: black;}#sk-container-id-3 div.sk-estimator:hover label.sk-toggleable__label-arrow:before {color: black;}#sk-container-id-3 div.sk-toggleable__content {max-height: 0;max-width: 0;overflow: hidden;text-align: left;background-color: #f0f8ff;}#sk-container-id-3 div.sk-toggleable__content pre {margin: 0.2em;color: black;border-radius: 0.25em;background-color: #f0f8ff;}#sk-container-id-3 input.sk-toggleable__control:checked~div.sk-toggleable__content {max-height: 200px;max-width: 100%;overflow: auto;}#sk-container-id-3 input.sk-toggleable__control:checked~label.sk-toggleable__label-arrow:before {content: \"▾\";}#sk-container-id-3 div.sk-estimator input.sk-toggleable__control:checked~label.sk-toggleable__label {background-color: #d4ebff;}#sk-container-id-3 div.sk-label input.sk-toggleable__control:checked~label.sk-toggleable__label {background-color: #d4ebff;}#sk-container-id-3 input.sk-hidden--visually {border: 0;clip: rect(1px 1px 1px 1px);clip: rect(1px, 1px, 1px, 1px);height: 1px;margin: -1px;overflow: hidden;padding: 0;position: absolute;width: 1px;}#sk-container-id-3 div.sk-estimator {font-family: monospace;background-color: #f0f8ff;border: 1px dotted black;border-radius: 0.25em;box-sizing: border-box;margin-bottom: 0.5em;}#sk-container-id-3 div.sk-estimator:hover {background-color: #d4ebff;}#sk-container-id-3 div.sk-parallel-item::after {content: \"\";width: 100%;border-bottom: 1px solid gray;flex-grow: 1;}#sk-container-id-3 div.sk-label:hover label.sk-toggleable__label {background-color: #d4ebff;}#sk-container-id-3 div.sk-serial::before {content: \"\";position: absolute;border-left: 1px solid gray;box-sizing: border-box;top: 0;bottom: 0;left: 50%;z-index: 0;}#sk-container-id-3 div.sk-serial {display: flex;flex-direction: column;align-items: center;background-color: white;padding-right: 0.2em;padding-left: 0.2em;position: relative;}#sk-container-id-3 div.sk-item {position: relative;z-index: 1;}#sk-container-id-3 div.sk-parallel {display: flex;align-items: stretch;justify-content: center;background-color: white;position: relative;}#sk-container-id-3 div.sk-item::before, #sk-container-id-3 div.sk-parallel-item::before {content: \"\";position: absolute;border-left: 1px solid gray;box-sizing: border-box;top: 0;bottom: 0;left: 50%;z-index: -1;}#sk-container-id-3 div.sk-parallel-item {display: flex;flex-direction: column;z-index: 1;position: relative;background-color: white;}#sk-container-id-3 div.sk-parallel-item:first-child::after {align-self: flex-end;width: 50%;}#sk-container-id-3 div.sk-parallel-item:last-child::after {align-self: flex-start;width: 50%;}#sk-container-id-3 div.sk-parallel-item:only-child::after {width: 0;}#sk-container-id-3 div.sk-dashed-wrapped {border: 1px dashed gray;margin: 0 0.4em 0.5em 0.4em;box-sizing: border-box;padding-bottom: 0.4em;background-color: white;}#sk-container-id-3 div.sk-label label {font-family: monospace;font-weight: bold;display: inline-block;line-height: 1.2em;}#sk-container-id-3 div.sk-label-container {text-align: center;}#sk-container-id-3 div.sk-container {/* jupyter's `normalize.less` sets `[hidden] { display: none; }` but bootstrap.min.css set `[hidden] { display: none !important; }` so we also need the `!important` here to be able to override the default hidden behavior on the sphinx rendered scikit-learn.org. See: https://github.com/scikit-learn/scikit-learn/issues/21755 */display: inline-block !important;position: relative;}#sk-container-id-3 div.sk-text-repr-fallback {display: none;}</style><div id=\"sk-container-id-3\" class=\"sk-top-container\"><div class=\"sk-text-repr-fallback\"><pre>GridSearchCV(cv=5,\n",
       "             estimator=Pipeline(steps=[(&#x27;standardscaler&#x27;, StandardScaler()),\n",
       "                                       (&#x27;svc&#x27;, SVC())]),\n",
       "             param_grid={&#x27;svc__C&#x27;: [0.1, 1, 10],\n",
       "                         &#x27;svc__gamma&#x27;: [&#x27;scale&#x27;, &#x27;auto&#x27;],\n",
       "                         &#x27;svc__kernel&#x27;: [&#x27;poly&#x27;, &#x27;rbf&#x27;, &#x27;sigmoid&#x27;]})</pre><b>In a Jupyter environment, please rerun this cell to show the HTML representation or trust the notebook. <br />On GitHub, the HTML representation is unable to render, please try loading this page with nbviewer.org.</b></div><div class=\"sk-container\" hidden><div class=\"sk-item sk-dashed-wrapped\"><div class=\"sk-label-container\"><div class=\"sk-label sk-toggleable\"><input class=\"sk-toggleable__control sk-hidden--visually\" id=\"sk-estimator-id-8\" type=\"checkbox\" ><label for=\"sk-estimator-id-8\" class=\"sk-toggleable__label sk-toggleable__label-arrow\">GridSearchCV</label><div class=\"sk-toggleable__content\"><pre>GridSearchCV(cv=5,\n",
       "             estimator=Pipeline(steps=[(&#x27;standardscaler&#x27;, StandardScaler()),\n",
       "                                       (&#x27;svc&#x27;, SVC())]),\n",
       "             param_grid={&#x27;svc__C&#x27;: [0.1, 1, 10],\n",
       "                         &#x27;svc__gamma&#x27;: [&#x27;scale&#x27;, &#x27;auto&#x27;],\n",
       "                         &#x27;svc__kernel&#x27;: [&#x27;poly&#x27;, &#x27;rbf&#x27;, &#x27;sigmoid&#x27;]})</pre></div></div></div><div class=\"sk-parallel\"><div class=\"sk-parallel-item\"><div class=\"sk-item\"><div class=\"sk-label-container\"><div class=\"sk-label sk-toggleable\"><input class=\"sk-toggleable__control sk-hidden--visually\" id=\"sk-estimator-id-9\" type=\"checkbox\" ><label for=\"sk-estimator-id-9\" class=\"sk-toggleable__label sk-toggleable__label-arrow\">estimator: Pipeline</label><div class=\"sk-toggleable__content\"><pre>Pipeline(steps=[(&#x27;standardscaler&#x27;, StandardScaler()), (&#x27;svc&#x27;, SVC())])</pre></div></div></div><div class=\"sk-serial\"><div class=\"sk-item\"><div class=\"sk-serial\"><div class=\"sk-item\"><div class=\"sk-estimator sk-toggleable\"><input class=\"sk-toggleable__control sk-hidden--visually\" id=\"sk-estimator-id-10\" type=\"checkbox\" ><label for=\"sk-estimator-id-10\" class=\"sk-toggleable__label sk-toggleable__label-arrow\">StandardScaler</label><div class=\"sk-toggleable__content\"><pre>StandardScaler()</pre></div></div></div><div class=\"sk-item\"><div class=\"sk-estimator sk-toggleable\"><input class=\"sk-toggleable__control sk-hidden--visually\" id=\"sk-estimator-id-11\" type=\"checkbox\" ><label for=\"sk-estimator-id-11\" class=\"sk-toggleable__label sk-toggleable__label-arrow\">SVC</label><div class=\"sk-toggleable__content\"><pre>SVC()</pre></div></div></div></div></div></div></div></div></div></div></div></div>"
      ],
      "text/plain": [
       "GridSearchCV(cv=5,\n",
       "             estimator=Pipeline(steps=[('standardscaler', StandardScaler()),\n",
       "                                       ('svc', SVC())]),\n",
       "             param_grid={'svc__C': [0.1, 1, 10],\n",
       "                         'svc__gamma': ['scale', 'auto'],\n",
       "                         'svc__kernel': ['poly', 'rbf', 'sigmoid']})"
      ]
     },
     "execution_count": 104,
     "metadata": {},
     "output_type": "execute_result"
    }
   ],
   "source": [
    "# Set up the pipeline\n",
    "svm_pipe = make_pipeline(StandardScaler(), SVC())\n",
    "\n",
    "# Set up the grid search\n",
    "param_grid = {\n",
    "    'svc__C': [0.1, 1, 10],\n",
    "    'svc__kernel': ['poly', 'rbf', 'sigmoid'],\n",
    "    'svc__gamma': ['scale', 'auto']\n",
    "}\n",
    "clf = GridSearchCV(svm_pipe, param_grid, cv=5)\n",
    "\n",
    "# Fit the model and time it\n",
    "clf.fit(X_train, y_train)"
   ]
  },
  {
   "cell_type": "code",
   "execution_count": 105,
   "id": "f1ae6019",
   "metadata": {},
   "outputs": [
    {
     "name": "stdout",
     "output_type": "stream",
     "text": [
      "Best parameters: {'svc__C': 10, 'svc__gamma': 'scale', 'svc__kernel': 'rbf'}\n"
     ]
    }
   ],
   "source": [
    "# Print the best parameters and the time taken to fit the model\n",
    "print('Best parameters:', clf.best_params_)"
   ]
  },
  {
   "cell_type": "code",
   "execution_count": 106,
   "id": "75eb0419",
   "metadata": {},
   "outputs": [],
   "source": [
    "# Use the best parameters to fit a new SVM model\n",
    "best_params = clf.best_params_\n",
    "svm_pipe = make_pipeline(StandardScaler(), SVC(C=best_params['svc__C'], kernel=best_params['svc__kernel'], gamma=best_params['svc__gamma']))\n",
    "start_time = time.time()\n",
    "svm_pipe.fit(X_train, y_train)\n",
    "end_time = time.time()\n",
    "dur6=end_time - start_time"
   ]
  },
  {
   "cell_type": "code",
   "execution_count": 107,
   "id": "43079e77",
   "metadata": {},
   "outputs": [
    {
     "name": "stdout",
     "output_type": "stream",
     "text": [
      "              precision    recall  f1-score   support\n",
      "\n",
      "           0       1.00      0.99      1.00      2821\n",
      "           1       0.95      0.98      0.96       340\n",
      "\n",
      "    accuracy                           0.99      3161\n",
      "   macro avg       0.97      0.99      0.98      3161\n",
      "weighted avg       0.99      0.99      0.99      3161\n",
      "\n",
      "Confusion Matrix:\n",
      " [[2803    8]\n",
      " [  18  332]] \n",
      "\n",
      "              precision    recall  f1-score   support\n",
      "\n",
      "           0       1.00      0.99      1.00      2821\n",
      "           1       0.95      0.98      0.96       340\n",
      "\n",
      "    accuracy                           0.99      3161\n",
      "   macro avg       0.97      0.99      0.98      3161\n",
      "weighted avg       0.99      0.99      0.99      3161\n",
      "\n",
      "Accuracy Percent: 99.18\n"
     ]
    }
   ],
   "source": [
    "y_pred = svm_pipe.predict(X_test)\n",
    "print(classification_report(y_test, y_pred))\n",
    "print('Confusion Matrix:\\n', confusion_matrix(y_pred,y_test),'\\n')\n",
    "y_pred_nl = svm_pipe.predict(X_test)\n",
    "print(classification_report(y_test, y_pred_nl))\n",
    "acc_nl=accuracy_score(y_test, y_pred_nl)*100\n",
    "print(\"Accuracy Percent:\", round(acc_nl,2))"
   ]
  },
  {
   "cell_type": "markdown",
   "id": "11db0765",
   "metadata": {},
   "source": [
    "#### ELM"
   ]
  },
  {
   "cell_type": "code",
   "execution_count": 108,
   "id": "863678e5",
   "metadata": {},
   "outputs": [],
   "source": [
    "class ELM(nn.Module):\n",
    "    def __init__(self, input_size, hidden_size, output_size):\n",
    "        super(ELM, self).__init__()\n",
    "        self.input_size = input_size\n",
    "        self.hidden_size = hidden_size\n",
    "        self.output_size = output_size\n",
    "        self.linear1 = nn.Linear(input_size, hidden_size)\n",
    "        self.linear2 = nn.Linear(hidden_size, output_size)\n",
    "        \n",
    "    def forward(self, x):\n",
    "        h = F.relu(self.linear1(x))\n",
    "        y_pred = torch.sigmoid(self.linear2(h))\n",
    "        return y_pred"
   ]
  },
  {
   "cell_type": "code",
   "execution_count": 109,
   "id": "bbefee7c",
   "metadata": {},
   "outputs": [],
   "source": [
    "# Perform model structure selection\n",
    "parameters = {'hidden_size': [64, 128], 'batch_size': [32, 64], 'learning_rate': [0.001, 0.01]}"
   ]
  },
  {
   "cell_type": "code",
   "execution_count": 110,
   "id": "aab0d16a",
   "metadata": {},
   "outputs": [],
   "source": [
    "start_time = time.time()\n",
    "for hidden_size in parameters['hidden_size']:\n",
    "    for batch_size in parameters['batch_size']:\n",
    "        for learning_rate in parameters['learning_rate']:\n",
    "            elm = ELM(X_train.shape[1], hidden_size, 1)\n",
    "            optimizer = torch.optim.Adam(elm.parameters(), lr=learning_rate)\n",
    "            criterion = nn.BCELoss()\n",
    "\n",
    "            # Train the ELM\n",
    "            for i in range(0, len(X_train), batch_size):\n",
    "                x = torch.Tensor(X_train[i:i+batch_size])\n",
    "                y = torch.Tensor(y_train[i:i+batch_size])\n",
    "                y_pred = elm(x)\n",
    "                loss = criterion(y_pred, y)\n",
    "                optimizer.zero_grad()\n",
    "                loss.backward()\n",
    "                optimizer.step()\n",
    "\n",
    "            # Test the ELM\n",
    "            y_pred = elm(torch.Tensor(X_test)).detach().numpy()\n",
    "            y_pred = [1 if p > 0.5 else 0 for p in y_pred]\n",
    "end_time = time.time()\n",
    "dur7=end_time - start_time"
   ]
  },
  {
   "cell_type": "code",
   "execution_count": 111,
   "id": "d58c795e",
   "metadata": {},
   "outputs": [
    {
     "name": "stdout",
     "output_type": "stream",
     "text": [
      "hidden_size: 128, batch_size: 64, learning_rate: 0.01\n",
      "              precision    recall  f1-score   support\n",
      "\n",
      "           0       0.99      0.98      0.98      2821\n",
      "           1       0.84      0.90      0.87       340\n",
      "\n",
      "    accuracy                           0.97      3161\n",
      "   macro avg       0.91      0.94      0.93      3161\n",
      "weighted avg       0.97      0.97      0.97      3161\n",
      "\n",
      "Confusion Matrix:\n",
      " [[2762   34]\n",
      " [  59  306]] \n",
      "\n",
      "Accuracy Percent:\n",
      " 97.06\n"
     ]
    }
   ],
   "source": [
    "print('hidden_size: {}, batch_size: {}, learning_rate: {}'.format(hidden_size, batch_size, learning_rate))\n",
    "print(classification_report(y_test, y_pred))\n",
    "print('Confusion Matrix:\\n', confusion_matrix(y_pred,y_test),'\\n')\n",
    "acc_elm=accuracy_score(y_test, y_pred)*100\n",
    "print(\"Accuracy Percent:\\n\", round(acc_elm,2))"
   ]
  },
  {
   "cell_type": "markdown",
   "id": "3a633e06",
   "metadata": {},
   "source": [
    "#### Deep Learning "
   ]
  },
  {
   "cell_type": "code",
   "execution_count": 112,
   "id": "b8a05ee5",
   "metadata": {},
   "outputs": [],
   "source": [
    "#Create and initialize deep learning classifier\n",
    "gaussDL = GaussianNB()\n",
    "DLmodel = gaussDL.fit(X_train, y_train)\n",
    "start_time = time.time()\n",
    "y_pred3 = gaussDL.predict(X_test)\n",
    "end_time = time.time()\n",
    "dur8=end_time - start_time"
   ]
  },
  {
   "cell_type": "code",
   "execution_count": 113,
   "id": "59dbc930",
   "metadata": {},
   "outputs": [
    {
     "name": "stdout",
     "output_type": "stream",
     "text": [
      "              precision    recall  f1-score   support\n",
      "\n",
      "           0       1.00      0.97      0.98      2821\n",
      "           1       0.79      0.99      0.88       340\n",
      "\n",
      "    accuracy                           0.97      3161\n",
      "   macro avg       0.90      0.98      0.93      3161\n",
      "weighted avg       0.98      0.97      0.97      3161\n",
      "\n",
      "Confusion Matrix:\n",
      " [[2734   87]\n",
      " [   3  337]]\n",
      "Accuracy Percent:\n",
      " 97.15\n"
     ]
    }
   ],
   "source": [
    "print(classification_report(y_test, y_pred3))\n",
    "print('Confusion Matrix:\\n',confusion_matrix(y_test, y_pred3))\n",
    "acc_dl=accuracy_score(y_test, y_pred3)*100\n",
    "print(\"Accuracy Percent:\\n\", round(acc_dl,2))"
   ]
  },
  {
   "cell_type": "markdown",
   "id": "c626f8b5",
   "metadata": {},
   "source": [
    "### Comparative Results:"
   ]
  },
  {
   "cell_type": "code",
   "execution_count": 114,
   "id": "44dbbc4b",
   "metadata": {},
   "outputs": [
    {
     "name": "stdout",
     "output_type": "stream",
     "text": [
      "SGD 97.24770642201835\n",
      "KNN 98.54\n",
      "Random Forest 98.54476431509016\n",
      "SVM_Linear 97.69060423916483\n",
      "SVM_Non Linear 99.17747548244226\n",
      "ELM 97.05789307181271\n",
      "Deep Learning 97.15279974691553\n"
     ]
    }
   ],
   "source": [
    "print(\"SGD\",acc1)\n",
    "print(\"KNN\",acc2)\n",
    "print(\"Random Forest\",acc3)\n",
    "print(\"SVM_Linear\",acc4)\n",
    "print(\"SVM_Non Linear\",acc_nl)\n",
    "print(\"ELM\",acc_elm)\n",
    "print(\"Deep Learning\",acc_dl)"
   ]
  },
  {
   "cell_type": "code",
   "execution_count": 115,
   "id": "9ea19b45",
   "metadata": {},
   "outputs": [
    {
     "name": "stdout",
     "output_type": "stream",
     "text": [
      "SGD Model Fitting Time: 0.017282724380493164\n",
      "KNN Model Fitting Time: 0.002972126007080078\n",
      "Random Forest Model Fitting Time: 16.62758183479309\n",
      "SVM_Linear Model Fitting Time: 0.01803278923034668\n",
      "SVM_Non Linear Model Fitting Time: 0.02216315269470215\n",
      "ELM Model Fitting Time: 0.17454266548156738\n",
      "Deep Learning Model Fitting Time: 0.00041604042053222656\n"
     ]
    }
   ],
   "source": [
    "print(f\"SGD Model Fitting Time: {dur1}\")\n",
    "print(f\"KNN Model Fitting Time: {dur2}\")\n",
    "print(f\"Random Forest Model Fitting Time: {dur3}\")\n",
    "print(f\"SVM_Linear Model Fitting Time: {dur4}\")\n",
    "print(f\"SVM_Non Linear Model Fitting Time: {dur6}\")\n",
    "print(f\"ELM Model Fitting Time: {dur7}\")\n",
    "print(f\"Deep Learning Model Fitting Time: {dur8}\")"
   ]
  },
  {
   "cell_type": "markdown",
   "id": "33769347",
   "metadata": {},
   "source": [
    "## With Feature Selection"
   ]
  },
  {
   "cell_type": "markdown",
   "id": "de07ed5e",
   "metadata": {},
   "source": [
    "### Correlation Variable Selection\n",
    "\n",
    "##### Bidding_Ratio, Successive_Outbidding, Last_Bidding, Auction_Bids, Starting_Price_Average, Early_Bidding, Winning Ratio"
   ]
  },
  {
   "cell_type": "code",
   "execution_count": 11,
   "id": "672c8364",
   "metadata": {},
   "outputs": [],
   "source": [
    "#Variable Selection\n",
    "X_train_VS=X_train[0:,1:7]\n",
    "y_train_VS=y_train\n",
    "X_test_VS=X_test[0:,1:7]\n",
    "y_test_VS=y_test"
   ]
  },
  {
   "cell_type": "markdown",
   "id": "e8ee2eef",
   "metadata": {},
   "source": [
    "#### Best Model Part 2 (SVM LINEAR)"
   ]
  },
  {
   "cell_type": "code",
   "execution_count": 87,
   "id": "7ac4e5ef",
   "metadata": {},
   "outputs": [],
   "source": [
    "# Based on accuracy performance and best time complexity, we selected SVM linear as best model\n",
    "model = LinearSVC(penalty='l2', dual=False, max_iter=10000)\n",
    "param_grid = {'C': [0.01, 0.1, 1, 10, 100]}"
   ]
  },
  {
   "cell_type": "code",
   "execution_count": 13,
   "id": "a5919bbc",
   "metadata": {},
   "outputs": [
    {
     "name": "stdout",
     "output_type": "stream",
     "text": [
      "Best model: LinearSVC(C=0.01, dual=False, max_iter=10000)\n"
     ]
    }
   ],
   "source": [
    "start_time = time.time()\n",
    "# Set up k-fold cross-validation\n",
    "kfold = KFold(n_splits=5, shuffle=True, random_state=42)\n",
    "# Set up GridSearchCV to perform model selection using k-fold cross-validation\n",
    "clf = GridSearchCV(model, param_grid=param_grid, cv=kfold)\n",
    "clf.fit(X_train, y_train)\n",
    "end_time = time.time()\n",
    "duration1=end_time-start_time\n",
    "# Get the best model\n",
    "best_model = clf.best_estimator_\n",
    "print(f\"Best model: {best_model}\")"
   ]
  },
  {
   "cell_type": "code",
   "execution_count": 14,
   "id": "7eca33cb",
   "metadata": {},
   "outputs": [
    {
     "name": "stdout",
     "output_type": "stream",
     "text": [
      "              precision    recall  f1-score   support\n",
      "\n",
      "           0       0.99      0.98      0.99      2821\n",
      "           1       0.83      0.95      0.89       340\n",
      "\n",
      "    accuracy                           0.97      3161\n",
      "   macro avg       0.91      0.96      0.94      3161\n",
      "weighted avg       0.98      0.97      0.98      3161\n",
      "\n",
      "Confusion Matrix:\n",
      " [[2757   17]\n",
      " [  64  323]] \n",
      "\n",
      "Accuracy: 97.44%\n"
     ]
    }
   ],
   "source": [
    "# Evaluate the best model on the testing data\n",
    "y_pred = best_model.predict(X_test)\n",
    "accuracy = accuracy_score(y_test, y_pred)\n",
    "print(classification_report(y_test, y_pred))\n",
    "print('Confusion Matrix:\\n', confusion_matrix(y_pred,y_test),'\\n')\n",
    "print(f\"Accuracy: {round(accuracy*100,2)}%\")"
   ]
  },
  {
   "cell_type": "markdown",
   "id": "4544cec8",
   "metadata": {},
   "source": [
    "#### Best Model Part 3 (SVM Non-Linear)"
   ]
  },
  {
   "cell_type": "code",
   "execution_count": 15,
   "id": "bd85f625",
   "metadata": {},
   "outputs": [
    {
     "data": {
      "text/html": [
       "<style>#sk-container-id-2 {color: black;background-color: white;}#sk-container-id-2 pre{padding: 0;}#sk-container-id-2 div.sk-toggleable {background-color: white;}#sk-container-id-2 label.sk-toggleable__label {cursor: pointer;display: block;width: 100%;margin-bottom: 0;padding: 0.3em;box-sizing: border-box;text-align: center;}#sk-container-id-2 label.sk-toggleable__label-arrow:before {content: \"▸\";float: left;margin-right: 0.25em;color: #696969;}#sk-container-id-2 label.sk-toggleable__label-arrow:hover:before {color: black;}#sk-container-id-2 div.sk-estimator:hover label.sk-toggleable__label-arrow:before {color: black;}#sk-container-id-2 div.sk-toggleable__content {max-height: 0;max-width: 0;overflow: hidden;text-align: left;background-color: #f0f8ff;}#sk-container-id-2 div.sk-toggleable__content pre {margin: 0.2em;color: black;border-radius: 0.25em;background-color: #f0f8ff;}#sk-container-id-2 input.sk-toggleable__control:checked~div.sk-toggleable__content {max-height: 200px;max-width: 100%;overflow: auto;}#sk-container-id-2 input.sk-toggleable__control:checked~label.sk-toggleable__label-arrow:before {content: \"▾\";}#sk-container-id-2 div.sk-estimator input.sk-toggleable__control:checked~label.sk-toggleable__label {background-color: #d4ebff;}#sk-container-id-2 div.sk-label input.sk-toggleable__control:checked~label.sk-toggleable__label {background-color: #d4ebff;}#sk-container-id-2 input.sk-hidden--visually {border: 0;clip: rect(1px 1px 1px 1px);clip: rect(1px, 1px, 1px, 1px);height: 1px;margin: -1px;overflow: hidden;padding: 0;position: absolute;width: 1px;}#sk-container-id-2 div.sk-estimator {font-family: monospace;background-color: #f0f8ff;border: 1px dotted black;border-radius: 0.25em;box-sizing: border-box;margin-bottom: 0.5em;}#sk-container-id-2 div.sk-estimator:hover {background-color: #d4ebff;}#sk-container-id-2 div.sk-parallel-item::after {content: \"\";width: 100%;border-bottom: 1px solid gray;flex-grow: 1;}#sk-container-id-2 div.sk-label:hover label.sk-toggleable__label {background-color: #d4ebff;}#sk-container-id-2 div.sk-serial::before {content: \"\";position: absolute;border-left: 1px solid gray;box-sizing: border-box;top: 0;bottom: 0;left: 50%;z-index: 0;}#sk-container-id-2 div.sk-serial {display: flex;flex-direction: column;align-items: center;background-color: white;padding-right: 0.2em;padding-left: 0.2em;position: relative;}#sk-container-id-2 div.sk-item {position: relative;z-index: 1;}#sk-container-id-2 div.sk-parallel {display: flex;align-items: stretch;justify-content: center;background-color: white;position: relative;}#sk-container-id-2 div.sk-item::before, #sk-container-id-2 div.sk-parallel-item::before {content: \"\";position: absolute;border-left: 1px solid gray;box-sizing: border-box;top: 0;bottom: 0;left: 50%;z-index: -1;}#sk-container-id-2 div.sk-parallel-item {display: flex;flex-direction: column;z-index: 1;position: relative;background-color: white;}#sk-container-id-2 div.sk-parallel-item:first-child::after {align-self: flex-end;width: 50%;}#sk-container-id-2 div.sk-parallel-item:last-child::after {align-self: flex-start;width: 50%;}#sk-container-id-2 div.sk-parallel-item:only-child::after {width: 0;}#sk-container-id-2 div.sk-dashed-wrapped {border: 1px dashed gray;margin: 0 0.4em 0.5em 0.4em;box-sizing: border-box;padding-bottom: 0.4em;background-color: white;}#sk-container-id-2 div.sk-label label {font-family: monospace;font-weight: bold;display: inline-block;line-height: 1.2em;}#sk-container-id-2 div.sk-label-container {text-align: center;}#sk-container-id-2 div.sk-container {/* jupyter's `normalize.less` sets `[hidden] { display: none; }` but bootstrap.min.css set `[hidden] { display: none !important; }` so we also need the `!important` here to be able to override the default hidden behavior on the sphinx rendered scikit-learn.org. See: https://github.com/scikit-learn/scikit-learn/issues/21755 */display: inline-block !important;position: relative;}#sk-container-id-2 div.sk-text-repr-fallback {display: none;}</style><div id=\"sk-container-id-2\" class=\"sk-top-container\"><div class=\"sk-text-repr-fallback\"><pre>GridSearchCV(cv=5,\n",
       "             estimator=Pipeline(steps=[(&#x27;standardscaler&#x27;, StandardScaler()),\n",
       "                                       (&#x27;svc&#x27;, SVC())]),\n",
       "             param_grid={&#x27;svc__C&#x27;: [0.1, 1, 10],\n",
       "                         &#x27;svc__gamma&#x27;: [&#x27;scale&#x27;, &#x27;auto&#x27;],\n",
       "                         &#x27;svc__kernel&#x27;: [&#x27;poly&#x27;, &#x27;rbf&#x27;, &#x27;sigmoid&#x27;]})</pre><b>In a Jupyter environment, please rerun this cell to show the HTML representation or trust the notebook. <br />On GitHub, the HTML representation is unable to render, please try loading this page with nbviewer.org.</b></div><div class=\"sk-container\" hidden><div class=\"sk-item sk-dashed-wrapped\"><div class=\"sk-label-container\"><div class=\"sk-label sk-toggleable\"><input class=\"sk-toggleable__control sk-hidden--visually\" id=\"sk-estimator-id-5\" type=\"checkbox\" ><label for=\"sk-estimator-id-5\" class=\"sk-toggleable__label sk-toggleable__label-arrow\">GridSearchCV</label><div class=\"sk-toggleable__content\"><pre>GridSearchCV(cv=5,\n",
       "             estimator=Pipeline(steps=[(&#x27;standardscaler&#x27;, StandardScaler()),\n",
       "                                       (&#x27;svc&#x27;, SVC())]),\n",
       "             param_grid={&#x27;svc__C&#x27;: [0.1, 1, 10],\n",
       "                         &#x27;svc__gamma&#x27;: [&#x27;scale&#x27;, &#x27;auto&#x27;],\n",
       "                         &#x27;svc__kernel&#x27;: [&#x27;poly&#x27;, &#x27;rbf&#x27;, &#x27;sigmoid&#x27;]})</pre></div></div></div><div class=\"sk-parallel\"><div class=\"sk-parallel-item\"><div class=\"sk-item\"><div class=\"sk-label-container\"><div class=\"sk-label sk-toggleable\"><input class=\"sk-toggleable__control sk-hidden--visually\" id=\"sk-estimator-id-6\" type=\"checkbox\" ><label for=\"sk-estimator-id-6\" class=\"sk-toggleable__label sk-toggleable__label-arrow\">estimator: Pipeline</label><div class=\"sk-toggleable__content\"><pre>Pipeline(steps=[(&#x27;standardscaler&#x27;, StandardScaler()), (&#x27;svc&#x27;, SVC())])</pre></div></div></div><div class=\"sk-serial\"><div class=\"sk-item\"><div class=\"sk-serial\"><div class=\"sk-item\"><div class=\"sk-estimator sk-toggleable\"><input class=\"sk-toggleable__control sk-hidden--visually\" id=\"sk-estimator-id-7\" type=\"checkbox\" ><label for=\"sk-estimator-id-7\" class=\"sk-toggleable__label sk-toggleable__label-arrow\">StandardScaler</label><div class=\"sk-toggleable__content\"><pre>StandardScaler()</pre></div></div></div><div class=\"sk-item\"><div class=\"sk-estimator sk-toggleable\"><input class=\"sk-toggleable__control sk-hidden--visually\" id=\"sk-estimator-id-8\" type=\"checkbox\" ><label for=\"sk-estimator-id-8\" class=\"sk-toggleable__label sk-toggleable__label-arrow\">SVC</label><div class=\"sk-toggleable__content\"><pre>SVC()</pre></div></div></div></div></div></div></div></div></div></div></div></div>"
      ],
      "text/plain": [
       "GridSearchCV(cv=5,\n",
       "             estimator=Pipeline(steps=[('standardscaler', StandardScaler()),\n",
       "                                       ('svc', SVC())]),\n",
       "             param_grid={'svc__C': [0.1, 1, 10],\n",
       "                         'svc__gamma': ['scale', 'auto'],\n",
       "                         'svc__kernel': ['poly', 'rbf', 'sigmoid']})"
      ]
     },
     "execution_count": 15,
     "metadata": {},
     "output_type": "execute_result"
    }
   ],
   "source": [
    "# SVM Nonlinear\n",
    "\n",
    "# Set up the pipeline\n",
    "svm_pipe = make_pipeline(StandardScaler(), SVC())\n",
    "\n",
    "# Set up the grid search\n",
    "param_grid = {\n",
    "    'svc__C': [0.1, 1, 10],\n",
    "    'svc__kernel': ['poly', 'rbf', 'sigmoid'],\n",
    "    'svc__gamma': ['scale', 'auto']\n",
    "}\n",
    "clf = GridSearchCV(svm_pipe, param_grid, cv=5)\n",
    "# Fit the model and time it\n",
    "clf.fit(X_train_VS, y_train)"
   ]
  },
  {
   "cell_type": "code",
   "execution_count": 16,
   "id": "97ec00a7",
   "metadata": {},
   "outputs": [
    {
     "name": "stdout",
     "output_type": "stream",
     "text": [
      "Best parameters: {'svc__C': 10, 'svc__gamma': 'scale', 'svc__kernel': 'rbf'}\n"
     ]
    }
   ],
   "source": [
    "#Print the best parameters and the time taken to fit the model\n",
    "print('Best parameters:', clf.best_params_)"
   ]
  },
  {
   "cell_type": "code",
   "execution_count": 17,
   "id": "62d2987f",
   "metadata": {},
   "outputs": [
    {
     "name": "stdout",
     "output_type": "stream",
     "text": [
      "Model Fitting Time: 0.024572134017944336\n"
     ]
    }
   ],
   "source": [
    "# Use the best parameters to fit a new SVM model\n",
    "best_params = clf.best_params_\n",
    "svm_pipe = make_pipeline(StandardScaler(), SVC(C=best_params['svc__C'], kernel=best_params['svc__kernel'], gamma=best_params['svc__gamma']))\n",
    "start_time = time.time()\n",
    "svm_pipe.fit(X_train_VS, y_train)\n",
    "end_time = time.time()\n",
    "print(f\"Model Fitting Time: {end_time - start_time}\")"
   ]
  },
  {
   "cell_type": "code",
   "execution_count": 18,
   "id": "5d3d728e",
   "metadata": {},
   "outputs": [
    {
     "name": "stdout",
     "output_type": "stream",
     "text": [
      "              precision    recall  f1-score   support\n",
      "\n",
      "           0       1.00      0.98      0.99      2821\n",
      "           1       0.84      0.97      0.90       340\n",
      "\n",
      "    accuracy                           0.98      3161\n",
      "   macro avg       0.92      0.98      0.95      3161\n",
      "weighted avg       0.98      0.98      0.98      3161\n",
      "\n",
      "Confusion Matrix:\n",
      " [[2759    9]\n",
      " [  62  331]] \n",
      "\n",
      "Accuracy: 97.75 %\n"
     ]
    }
   ],
   "source": [
    "y_pred = svm_pipe.predict(X_test_VS)\n",
    "print(classification_report(y_test, y_pred))\n",
    "print('Confusion Matrix:\\n', confusion_matrix(y_pred,y_test),'\\n')\n",
    "print('Accuracy:', round(accuracy_score(y_pred,y_test)*100,2),'%')"
   ]
  },
  {
   "cell_type": "markdown",
   "id": "85766189",
   "metadata": {},
   "source": [
    "### Bi-directional Elimination Variable Selection\n",
    "\n",
    "##### 'Bidder_Tendency', 'Bidding_Ratio', 'Successive_Outbidding', 'Last_Bidding', 'Auction_Duration'"
   ]
  },
  {
   "cell_type": "code",
   "execution_count": 19,
   "id": "3edb65ee",
   "metadata": {},
   "outputs": [],
   "source": [
    "#Variable Selection\n",
    "X_train_VS=X_train[0:,(0,1,2,3,8)]\n",
    "y_train_VS=y_train\n",
    "X_test_VS=X_test[0:,(0,1,2,3,8)]\n",
    "y_test_VS=y_test"
   ]
  },
  {
   "cell_type": "markdown",
   "id": "2bab5053",
   "metadata": {},
   "source": [
    "#### Best Model Part 2 (SVM LINEAR)"
   ]
  },
  {
   "cell_type": "code",
   "execution_count": 20,
   "id": "4e45b92a",
   "metadata": {},
   "outputs": [
    {
     "name": "stdout",
     "output_type": "stream",
     "text": [
      "              precision    recall  f1-score   support\n",
      "\n",
      "           0       0.99      0.98      0.99      2821\n",
      "           1       0.83      0.95      0.89       340\n",
      "\n",
      "    accuracy                           0.97      3161\n",
      "   macro avg       0.91      0.96      0.94      3161\n",
      "weighted avg       0.98      0.97      0.98      3161\n",
      "\n",
      "Confusion Matrix:\n",
      " [[2757   17]\n",
      " [  64  323]] \n",
      "\n",
      "Accuracy: 97.44%\n"
     ]
    }
   ],
   "source": [
    "model = LinearSVC(penalty='l2', dual=False, max_iter=10000)\n",
    "param_grid = {'C': [0.01, 0.1, 1, 10, 100]}\n",
    "\n",
    "start_time = time.time()\n",
    "# Set up k-fold cross-validation\n",
    "kfold = KFold(n_splits=5, shuffle=True, random_state=42)\n",
    "# Set up GridSearchCV to perform model selection using k-fold cross-validation\n",
    "clf = GridSearchCV(model, param_grid=param_grid, cv=kfold)\n",
    "clf.fit(X_train, y_train)\n",
    "end_time = time.time()\n",
    "duration1=end_time-start_time\n",
    "# Get the best model\n",
    "best_model = clf.best_estimator_\n",
    "\n",
    "# Evaluate the best model on the testing data\n",
    "y_pred = best_model.predict(X_test)\n",
    "print(classification_report(y_test, y_pred))\n",
    "print('Confusion Matrix:\\n', confusion_matrix(y_pred,y_test),'\\n')\n",
    "accuracy = accuracy_score(y_test, y_pred)\n",
    "print(f\"Accuracy: {round(accuracy*100,2)}%\")"
   ]
  },
  {
   "cell_type": "markdown",
   "id": "c758b17a",
   "metadata": {},
   "source": [
    "#### Best Model Part 3 (SVM Non-Linear)"
   ]
  },
  {
   "cell_type": "code",
   "execution_count": 21,
   "id": "5b73b0b4",
   "metadata": {},
   "outputs": [],
   "source": [
    "# SVM Nonlinear\n",
    "\n",
    "# Set up the pipeline\n",
    "svm_pipe = make_pipeline(StandardScaler(), SVC())\n",
    "\n",
    "# Set up the grid search\n",
    "param_grid = {\n",
    "    'svc__C': [0.1, 1, 10],\n",
    "    'svc__kernel': ['poly', 'rbf', 'sigmoid'],\n",
    "    'svc__gamma': ['scale', 'auto']\n",
    "}\n",
    "clf = GridSearchCV(svm_pipe, param_grid, cv=5)\n",
    "# Fit the model and time it\n",
    "clf.fit(X_train_VS, y_train)\n",
    "\n",
    "# Use the best parameters to fit a new SVM model\n",
    "best_params = clf.best_params_\n",
    "svm_pipe = make_pipeline(StandardScaler(), SVC(C=best_params['svc__C'], kernel=best_params['svc__kernel'], gamma=best_params['svc__gamma']))\n",
    "start_time = time.time()\n",
    "svm_pipe.fit(X_train_VS, y_train)\n",
    "end_time = time.time()"
   ]
  },
  {
   "cell_type": "code",
   "execution_count": 22,
   "id": "1fc17131",
   "metadata": {},
   "outputs": [
    {
     "name": "stdout",
     "output_type": "stream",
     "text": [
      "              precision    recall  f1-score   support\n",
      "\n",
      "           0       1.00      0.99      0.99      2821\n",
      "           1       0.94      0.98      0.96       340\n",
      "\n",
      "    accuracy                           0.99      3161\n",
      "   macro avg       0.97      0.98      0.97      3161\n",
      "weighted avg       0.99      0.99      0.99      3161\n",
      "\n",
      "Confusion Matrix:\n",
      " [[2798    8]\n",
      " [  23  332]] \n",
      "\n",
      "Accuracy: 99.02 %\n"
     ]
    }
   ],
   "source": [
    "y_pred = svm_pipe.predict(X_test_VS)\n",
    "print(classification_report(y_test, y_pred))\n",
    "print('Confusion Matrix:\\n', confusion_matrix(y_pred,y_test),'\\n')\n",
    "print('Accuracy:', round(accuracy_score(y_pred,y_test)*100,2),'%')"
   ]
  },
  {
   "cell_type": "markdown",
   "id": "9e8edcdc",
   "metadata": {},
   "source": [
    "## Conclusion:\n",
    "### In conclusion, we observed best performance in SVM-non linear from bi-directional feature selection where the achieved accuracy score is 99.02 compared to all other feature selection with best models."
   ]
  },
  {
   "cell_type": "code",
   "execution_count": null,
   "id": "7082834f",
   "metadata": {},
   "outputs": [],
   "source": []
  }
 ],
 "metadata": {
  "kernelspec": {
   "display_name": "Python 3 (ipykernel)",
   "language": "python",
   "name": "python3"
  },
  "language_info": {
   "codemirror_mode": {
    "name": "ipython",
    "version": 3
   },
   "file_extension": ".py",
   "mimetype": "text/x-python",
   "name": "python",
   "nbconvert_exporter": "python",
   "pygments_lexer": "ipython3",
   "version": "3.10.9"
  }
 },
 "nbformat": 4,
 "nbformat_minor": 5
}
